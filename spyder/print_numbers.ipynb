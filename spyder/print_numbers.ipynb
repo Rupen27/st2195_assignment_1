# -*- coding: utf-8 -*-
"""
Created on Wed Oct 29 13:53:29 2025

@author: rudra
"""

