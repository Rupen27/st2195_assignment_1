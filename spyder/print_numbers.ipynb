# -*- coding: utf-8 -*-
"""
Created on Wed Oct 29 13:53:29 2025

@author: rudra
"""

# ST2195 Assignment 1 - Python
This notebook prints integers from 1 to 10.

for i in range(1, 11):
    print(i)

